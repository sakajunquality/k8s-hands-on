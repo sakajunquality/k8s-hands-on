{
 "cells": [
  {
   "cell_type": "markdown",
   "metadata": {},
   "source": [
    "# 2-A Introduction to Google Kubernetes Engine"
   ]
  },
  {
   "cell_type": "markdown",
   "metadata": {},
   "source": [
    "## 2-A.1 Create new GCP Project\n",
    "\n",
    "Sign-up [here](https://cloud.google.com/) to create a new GCP Project.\n",
    "\n",
    "![Create Project](./assets/2a_1_1_new_project.png)"
   ]
  },
  {
   "cell_type": "markdown",
   "metadata": {},
   "source": [
    "Change the PROJECT_ID and run the following,"
   ]
  },
  {
   "cell_type": "code",
   "execution_count": 1,
   "metadata": {},
   "outputs": [],
   "source": [
    "export PROJECT_ID=k8s-hands-on-quality\n",
    "export CLUSTER_NAME=k8s-hands-on\n",
    "export CLUSTER_ZONE=us-west1-c"
   ]
  },
  {
   "cell_type": "markdown",
   "metadata": {},
   "source": [
    "Open up the new terminal and type the following,\n",
    "```\n",
    "gcloud auth login\n",
    "```\n",
    "\n",
    "![terminal](./assets/2a_1_2_terminal.png)\n",
    "![terminal](./assets/2a_1_2_terminal_3.png)\n",
    "![terminal](./assets/2a_1_2_terminal_4.png)"
   ]
  },
  {
   "cell_type": "code",
   "execution_count": 2,
   "metadata": {},
   "outputs": [
    {
     "name": "stdout",
     "output_type": "stream",
     "text": [
      "Updated property [core/project].\n"
     ]
    }
   ],
   "source": [
    "gcloud config set project $PROJECT_ID"
   ]
  },
  {
   "cell_type": "code",
   "execution_count": 3,
   "metadata": {},
   "outputs": [
    {
     "name": "stdout",
     "output_type": "stream",
     "text": [
      "    Credentialed Accounts\n",
      "ACTIVE  ACCOUNT\n",
      "*       xxxxxxxxxxxxx@gmail.com\n",
      "\n",
      "To set the active account, run:\n",
      "    $ gcloud config set account `ACCOUNT`\n",
      "\n"
     ]
    }
   ],
   "source": [
    "gcloud auth list"
   ]
  },
  {
   "cell_type": "markdown",
   "metadata": {},
   "source": [
    "## 2-A.2 Create Kubernete Engine Cluster"
   ]
  },
  {
   "cell_type": "markdown",
   "metadata": {},
   "source": [
    "### Enable some APIs"
   ]
  },
  {
   "cell_type": "code",
   "execution_count": 4,
   "metadata": {},
   "outputs": [
    {
     "name": "stdout",
     "output_type": "stream",
     "text": [
      "Operation \"operations/acf.461d971c-d64b-4b30-8c92-aa51f8406bf0\" finished successfully.\n"
     ]
    }
   ],
   "source": [
    "gcloud services enable \\\n",
    "  cloudapis.googleapis.com \\\n",
    "  container.googleapis.com \\\n",
    "  containerregistry.googleapis.com"
   ]
  },
  {
   "cell_type": "markdown",
   "metadata": {},
   "source": [
    "### Create new cluster"
   ]
  },
  {
   "cell_type": "code",
   "execution_count": 5,
   "metadata": {},
   "outputs": [
    {
     "name": "stdout",
     "output_type": "stream",
     "text": [
      "\u001b[1;33mWARNING:\u001b[0m Starting in 1.12, new clusters will have basic authentication disabled by default. Basic authentication can be enabled (or disabled) manually using the `--[no-]enable-basic-auth` flag.\n",
      "\u001b[1;33mWARNING:\u001b[0m Starting in 1.12, new clusters will not have a client certificate issued. You can manually enable (or disable) the issuance of the client certificate using the `--[no-]issue-client-certificate` flag.\n",
      "\u001b[1;33mWARNING:\u001b[0m Currently VPC-native is not the default mode during cluster creation. In the future, this will become the default mode and can be disabled using `--no-enable-ip-alias` flag. Use `--[no-]enable-ip-alias` flag to suppress this warning.\n",
      "This will enable the autorepair feature for nodes. Please see\n",
      "https://cloud.google.com/kubernetes-engine/docs/node-auto-repair for more\n",
      "information on node autorepairs.\n",
      "\n",
      "Creating cluster k8s-hands-on...done.                                          \n",
      "Created [https://container.googleapis.com/v1/projects/k8s-hands-on-quality/zones/us-west1-c/clusters/k8s-hands-on].\n",
      "To inspect the contents of your cluster, go to: https://console.cloud.google.com/kubernetes/workload_/gcloud/us-west1-c/k8s-hands-on?project=k8s-hands-on-quality\n",
      "kubeconfig entry generated for k8s-hands-on.\n",
      "NAME          LOCATION    MASTER_VERSION  MASTER_IP       MACHINE_TYPE   NODE_VERSION  NUM_NODES  STATUS\n",
      "k8s-hands-on  us-west1-c  1.10.7-gke.1    35.199.190.247  n1-standard-1  1.10.7-gke.1  3          RUNNING\n"
     ]
    }
   ],
   "source": [
    "gcloud container clusters create $CLUSTER_NAME \\\n",
    "  --zone=$CLUSTER_ZONE \\\n",
    "  --cluster-version=latest \\\n",
    "  --machine-type=n1-standard-1 \\\n",
    "  --enable-autoscaling --min-nodes=1 --max-nodes=6 \\\n",
    "  --enable-autorepair \\\n",
    "  --scopes=service-control,service-management,compute-rw,storage-ro,cloud-platform,logging-write,monitoring-write,pubsub,datastore \\\n",
    "  --num-nodes=3"
   ]
  },
  {
   "cell_type": "markdown",
   "metadata": {},
   "source": [
    "Open up the [Kubernete Engine's Console](https://console.cloud.google.com/kubernetes/list) to check the create cluster, or type the following,"
   ]
  },
  {
   "cell_type": "code",
   "execution_count": 6,
   "metadata": {},
   "outputs": [
    {
     "name": "stdout",
     "output_type": "stream",
     "text": [
      "NAME          LOCATION    MASTER_VERSION  MASTER_IP       MACHINE_TYPE   NODE_VERSION  NUM_NODES  STATUS\n",
      "k8s-hands-on  us-west1-c  1.10.7-gke.1    35.199.190.247  n1-standard-1  1.10.7-gke.1  3          RUNNING\n"
     ]
    }
   ],
   "source": [
    "gcloud container clusters list"
   ]
  },
  {
   "cell_type": "markdown",
   "metadata": {},
   "source": [
    "![GKE Cluster](./assets/2a_2_1_gke.png)"
   ]
  },
  {
   "cell_type": "markdown",
   "metadata": {},
   "source": [
    "### Make current user as admin"
   ]
  },
  {
   "cell_type": "code",
   "execution_count": 7,
   "metadata": {},
   "outputs": [
    {
     "name": "stdout",
     "output_type": "stream",
     "text": [
      "clusterrolebinding.rbac.authorization.k8s.io/cluster-admin-binding created\n"
     ]
    }
   ],
   "source": [
    "kubectl create clusterrolebinding cluster-admin-binding \\\n",
    "--clusterrole=cluster-admin \\\n",
    "--user=$(gcloud config get-value core/account)"
   ]
  },
  {
   "cell_type": "markdown",
   "metadata": {},
   "source": [
    "## 2-A.3 Connect to GKE Cluster"
   ]
  },
  {
   "cell_type": "markdown",
   "metadata": {},
   "source": [
    "Run the following cell to get credential to the cluster."
   ]
  },
  {
   "cell_type": "code",
   "execution_count": 8,
   "metadata": {},
   "outputs": [
    {
     "name": "stdout",
     "output_type": "stream",
     "text": [
      "Fetching cluster endpoint and auth data.\n",
      "kubeconfig entry generated for k8s-hands-on.\n"
     ]
    }
   ],
   "source": [
    "gcloud container clusters get-credentials $CLUSTER_NAME --zone $CLUSTER_ZONE --project $PROJECT_ID"
   ]
  },
  {
   "cell_type": "markdown",
   "metadata": {},
   "source": [
    "### Get GKE nodes"
   ]
  },
  {
   "cell_type": "code",
   "execution_count": 9,
   "metadata": {},
   "outputs": [
    {
     "name": "stdout",
     "output_type": "stream",
     "text": [
      "NAME                                          STATUS    ROLES     AGE       VERSION\n",
      "gke-k8s-hands-on-default-pool-fcedd762-2r2v   Ready     <none>    7m        v1.10.7-gke.1\n",
      "gke-k8s-hands-on-default-pool-fcedd762-f7mj   Ready     <none>    7m        v1.10.7-gke.1\n",
      "gke-k8s-hands-on-default-pool-fcedd762-vhdw   Ready     <none>    7m        v1.10.7-gke.1\n"
     ]
    }
   ],
   "source": [
    "kubectl get nodes"
   ]
  }
 ],
 "metadata": {
  "kernelspec": {
   "display_name": "Bash",
   "language": "bash",
   "name": "bash"
  },
  "language_info": {
   "codemirror_mode": "shell",
   "file_extension": ".sh",
   "mimetype": "text/x-sh",
   "name": "bash"
  }
 },
 "nbformat": 4,
 "nbformat_minor": 2
}

{
 "cells": [
  {
   "cell_type": "markdown",
   "metadata": {},
   "source": [
    "# 4. Kubernetes First Deployment"
   ]
  },
  {
   "cell_type": "markdown",
   "metadata": {},
   "source": [
    "Now it's time to deploy the sample application to the previously created GKE cluster."
   ]
  },
  {
   "cell_type": "code",
   "execution_count": 4,
   "metadata": {},
   "outputs": [],
   "source": [
    "export PROJECT_ID=k8s-hands-on-quality\n",
    "export CLUSTER_NAME=k8s-hands-on\n",
    "export CLUSTER_ZONE=us-west1-c"
   ]
  },
  {
   "cell_type": "markdown",
   "metadata": {},
   "source": [
    "## 4.1 Prepare Image"
   ]
  },
  {
   "cell_type": "markdown",
   "metadata": {},
   "source": [
    "Push built sample applications's image to GCR."
   ]
  },
  {
   "cell_type": "code",
   "execution_count": 5,
   "metadata": {},
   "outputs": [],
   "source": [
    "docker tag k8s-hands-on:v1 gcr.io/$PROJECT_ID/k8s-hands-on:v1"
   ]
  },
  {
   "cell_type": "code",
   "execution_count": 7,
   "metadata": {},
   "outputs": [
    {
     "name": "stdout",
     "output_type": "stream",
     "text": [
      "\u001b[1;33mWARNING:\u001b[0m `gcloud docker` will not be supported for Docker client versions above 18.03.\n",
      "\n",
      "As an alternative, use `gcloud auth configure-docker` to configure `docker` to\n",
      "use `gcloud` as a credential helper, then use `docker` as you would for non-GCR\n",
      "registries, e.g. `docker pull gcr.io/project-id/my-image`. Add\n",
      "`--verbosity=error` to silence this warning: `gcloud docker\n",
      "--verbosity=error -- pull gcr.io/project-id/my-image`.\n",
      "\n",
      "See: https://cloud.google.com/container-registry/docs/support/deprecation-notices#gcloud-docker\n",
      "\n",
      "The push refers to repository [gcr.io/k8s-hands-on-quality/k8s-hands-on]\n",
      "\n",
      "\u001b[1B8414bb0b: Preparing \n",
      "\u001b[1Bfd394570: Preparing \n",
      "\u001b[3Bv1: digest: sha256:6fab595207df9755d07c80fb0a7c29a02ac28ae37f1cbf52ab7e1607ab99d7d7 size: 949\n"
     ]
    }
   ],
   "source": [
    "gcloud docker -- push gcr.io/$PROJECT_ID/k8s-hands-on:v1"
   ]
  },
  {
   "cell_type": "markdown",
   "metadata": {},
   "source": [
    "## 4.2 Deploy Container"
   ]
  },
  {
   "cell_type": "markdown",
   "metadata": {},
   "source": [
    "### 4.2.1 Create a namespace"
   ]
  },
  {
   "cell_type": "code",
   "execution_count": 9,
   "metadata": {},
   "outputs": [
    {
     "name": "stdout",
     "output_type": "stream",
     "text": [
      "namespace/k8s-hands-on created\n"
     ]
    }
   ],
   "source": [
    "kubectl create namespace k8s-hands-on"
   ]
  },
  {
   "cell_type": "markdown",
   "metadata": {},
   "source": [
    "\n",
    "### 4.2.2 Create a pod deployment"
   ]
  },
  {
   "cell_type": "code",
   "execution_count": 24,
   "metadata": {},
   "outputs": [
    {
     "name": "stdout",
     "output_type": "stream",
     "text": [
      "apiVersion: extensions/v1beta1\n",
      "kind: Deployment\n",
      "metadata:\n",
      "  labels:\n",
      "    name: k8s-first-app\n",
      "  name: k8s-first-app\n",
      "  namespace: k8s-hands-on\n",
      "spec:\n",
      "  replicas: 1\n",
      "  template:\n",
      "    metadata:\n",
      "      labels:\n",
      "        name: k8s-first-app\n",
      "    spec:\n",
      "      containers:\n",
      "      - name: app\n",
      "        image: gcr.io/YOUR_PROJECT_ID/k8s-hands-on:v1\n",
      "        ports:\n",
      "          - name: app\n",
      "            containerPort: 8888\n"
     ]
    }
   ],
   "source": [
    "cat k8s/first_deployment/deployment.yaml"
   ]
  },
  {
   "cell_type": "markdown",
   "metadata": {},
   "source": [
    "Use sed to replace the GCP Project ID,"
   ]
  },
  {
   "cell_type": "code",
   "execution_count": 28,
   "metadata": {},
   "outputs": [],
   "source": [
    "sed -e \"s/YOUR_PROJECT_ID/${PROJECT_ID}/g\" -i k8s/first_deployment/deployment.yaml"
   ]
  },
  {
   "cell_type": "code",
   "execution_count": 29,
   "metadata": {},
   "outputs": [
    {
     "name": "stdout",
     "output_type": "stream",
     "text": [
      "apiVersion: extensions/v1beta1\n",
      "kind: Deployment\n",
      "metadata:\n",
      "  labels:\n",
      "    name: k8s-first-app\n",
      "  name: k8s-first-app\n",
      "  namespace: k8s-hands-on\n",
      "spec:\n",
      "  replicas: 1\n",
      "  template:\n",
      "    metadata:\n",
      "      labels:\n",
      "        name: k8s-first-app\n",
      "    spec:\n",
      "      containers:\n",
      "      - name: app\n",
      "        image: gcr.io/k8s-hands-on-quality/k8s-hands-on:v1\n",
      "        ports:\n",
      "          - name: app\n",
      "            containerPort: 8888\n"
     ]
    }
   ],
   "source": [
    "cat k8s/first_deployment/deployment.yaml"
   ]
  },
  {
   "cell_type": "markdown",
   "metadata": {},
   "source": [
    "Apply this to the cluster"
   ]
  },
  {
   "cell_type": "code",
   "execution_count": 30,
   "metadata": {},
   "outputs": [
    {
     "name": "stdout",
     "output_type": "stream",
     "text": [
      "deployment.extensions/k8s-first-app created\n"
     ]
    }
   ],
   "source": [
    "kubectl apply -f k8s/first_deployment/deployment.yaml"
   ]
  },
  {
   "cell_type": "code",
   "execution_count": 32,
   "metadata": {},
   "outputs": [
    {
     "name": "stdout",
     "output_type": "stream",
     "text": [
      "NAME            DESIRED   CURRENT   UP-TO-DATE   AVAILABLE   AGE\n",
      "k8s-first-app   1         1         1            1           25s\n"
     ]
    }
   ],
   "source": [
    "kubectl get deployments -n k8s-hands-on"
   ]
  },
  {
   "cell_type": "code",
   "execution_count": 33,
   "metadata": {},
   "outputs": [
    {
     "name": "stdout",
     "output_type": "stream",
     "text": [
      "NAME                             READY     STATUS    RESTARTS   AGE\n",
      "k8s-first-app-79fbbbc766-pc54f   1/1       Running   0          35s\n"
     ]
    }
   ],
   "source": [
    "kubectl get pods -n k8s-hands-on"
   ]
  },
  {
   "cell_type": "markdown",
   "metadata": {},
   "source": [
    "## 4.3 Create Service"
   ]
  },
  {
   "cell_type": "code",
   "execution_count": 34,
   "metadata": {},
   "outputs": [
    {
     "name": "stdout",
     "output_type": "stream",
     "text": [
      "apiVersion: v1\n",
      "kind: Service\n",
      "metadata:\n",
      "  labels:\n",
      "    name: k8s-first-service\n",
      "  name: k8s-first-service\n",
      "  namespace: k8s-hands-on\n",
      "spec:\n",
      "  type: NodePort\n",
      "  ports:\n",
      "  - port: 80\n",
      "    targetPort: 8888\n",
      "  selector:\n",
      "    name: k8s-first-app\n"
     ]
    }
   ],
   "source": [
    "cat k8s/first_deployment/service.yaml"
   ]
  },
  {
   "cell_type": "code",
   "execution_count": 35,
   "metadata": {},
   "outputs": [
    {
     "name": "stdout",
     "output_type": "stream",
     "text": [
      "service/k8s-first-service created\n"
     ]
    }
   ],
   "source": [
    "kubectl apply -f k8s/first_deployment/service.yaml"
   ]
  },
  {
   "cell_type": "code",
   "execution_count": 36,
   "metadata": {},
   "outputs": [
    {
     "name": "stdout",
     "output_type": "stream",
     "text": [
      "NAME                TYPE       CLUSTER-IP      EXTERNAL-IP   PORT(S)        AGE\n",
      "k8s-first-service   NodePort   10.31.248.239   <none>        80:30133/TCP   10s\n"
     ]
    }
   ],
   "source": [
    "kubectl get svc -n k8s-hands-on"
   ]
  },
  {
   "cell_type": "markdown",
   "metadata": {},
   "source": [
    "## 4.4 Create Ingress to expose the service"
   ]
  },
  {
   "cell_type": "code",
   "execution_count": 37,
   "metadata": {},
   "outputs": [
    {
     "name": "stdout",
     "output_type": "stream",
     "text": [
      "apiVersion: extensions/v1beta1\n",
      "kind: Ingress\n",
      "metadata:\n",
      "  name: k8s-first-ingress\n",
      "  namespace: k8s-hands-on\n",
      "  annotations:\n",
      "    kubernetes.io/tls-acme: \"true\"\n",
      "    kubernetes.io/ingress.class: \"gce\"\n",
      "    kubernetes.io/ingress.allow-http: \"true\"\n",
      "spec:\n",
      "  backend:\n",
      "    serviceName: k8s-first-service\n",
      "    servicePort: 80\n"
     ]
    }
   ],
   "source": [
    "cat k8s/first_deployment/ingress.yaml"
   ]
  },
  {
   "cell_type": "code",
   "execution_count": 38,
   "metadata": {},
   "outputs": [
    {
     "name": "stdout",
     "output_type": "stream",
     "text": [
      "ingress.extensions/k8s-first-ingress created\n"
     ]
    }
   ],
   "source": [
    "kubectl apply -f k8s/first_deployment/ingress.yaml"
   ]
  },
  {
   "cell_type": "code",
   "execution_count": 39,
   "metadata": {},
   "outputs": [
    {
     "name": "stdout",
     "output_type": "stream",
     "text": [
      "NAME                HOSTS     ADDRESS         PORTS     AGE\n",
      "k8s-first-ingress   *         35.241.16.212   80        1m\n"
     ]
    }
   ],
   "source": [
    "kubectl get ingress -n k8s-hands-on"
   ]
  },
  {
   "cell_type": "markdown",
   "metadata": {},
   "source": [
    "Wait a few seconds and you will be able to access the content"
   ]
  },
  {
   "cell_type": "code",
   "execution_count": 40,
   "metadata": {},
   "outputs": [
    {
     "name": "stdout",
     "output_type": "stream",
     "text": [
      "Hello!"
     ]
    }
   ],
   "source": [
    "curl http://35.241.16.212/"
   ]
  },
  {
   "cell_type": "markdown",
   "metadata": {},
   "source": [
    "## 4.5 Clean up"
   ]
  },
  {
   "cell_type": "code",
   "execution_count": 41,
   "metadata": {},
   "outputs": [
    {
     "name": "stdout",
     "output_type": "stream",
     "text": [
      "ingress.extensions \"k8s-first-ingress\" deleted\n"
     ]
    }
   ],
   "source": [
    "kubectl delete ingress/k8s-first-ingress -n k8s-hands-on"
   ]
  },
  {
   "cell_type": "code",
   "execution_count": 42,
   "metadata": {},
   "outputs": [
    {
     "name": "stdout",
     "output_type": "stream",
     "text": [
      "service \"k8s-first-service\" deleted\n"
     ]
    }
   ],
   "source": [
    "kubectl delete service/k8s-first-service -n k8s-hands-on"
   ]
  },
  {
   "cell_type": "code",
   "execution_count": 43,
   "metadata": {},
   "outputs": [
    {
     "name": "stdout",
     "output_type": "stream",
     "text": [
      "deployment.extensions \"k8s-first-app\" deleted\n"
     ]
    }
   ],
   "source": [
    "kubectl delete deployment/k8s-first-app -n k8s-hands-on"
   ]
  },
  {
   "cell_type": "code",
   "execution_count": 44,
   "metadata": {},
   "outputs": [
    {
     "name": "stdout",
     "output_type": "stream",
     "text": [
      "No resources found.\n"
     ]
    }
   ],
   "source": [
    "kubectl get pods -n k8s-hands-on"
   ]
  },
  {
   "cell_type": "code",
   "execution_count": 45,
   "metadata": {},
   "outputs": [
    {
     "name": "stdout",
     "output_type": "stream",
     "text": [
      "No resources found.\n"
     ]
    }
   ],
   "source": [
    "kubectl get svc -n k8s-hands-on"
   ]
  },
  {
   "cell_type": "code",
   "execution_count": 46,
   "metadata": {},
   "outputs": [
    {
     "name": "stdout",
     "output_type": "stream",
     "text": [
      "No resources found.\n"
     ]
    }
   ],
   "source": [
    "kubectl get ingress -n k8s-hands-on"
   ]
  },
  {
   "cell_type": "code",
   "execution_count": 47,
   "metadata": {},
   "outputs": [
    {
     "name": "stdout",
     "output_type": "stream",
     "text": [
      "namespace \"k8s-hands-on\" deleted\n"
     ]
    }
   ],
   "source": [
    "kubectl delete namespace k8s-hands-on"
   ]
  }
 ],
 "metadata": {
  "kernelspec": {
   "display_name": "Bash",
   "language": "bash",
   "name": "bash"
  },
  "language_info": {
   "codemirror_mode": "shell",
   "file_extension": ".sh",
   "mimetype": "text/x-sh",
   "name": "bash"
  }
 },
 "nbformat": 4,
 "nbformat_minor": 2
}

{
 "cells": [
  {
   "cell_type": "code",
   "execution_count": 1,
   "metadata": {},
   "outputs": [
    {
     "name": "stdout",
     "output_type": "stream",
     "text": [
      "Client:\n",
      " Version:           18.06.1-ce\n",
      " API version:       1.38\n",
      " Go version:        go1.10.3\n",
      " Git commit:        e68fc7a\n",
      " Built:             Tue Aug 21 17:20:43 2018\n",
      " OS/Arch:           linux/amd64\n",
      " Experimental:      false\n",
      "\n",
      "Server:\n",
      " Engine:\n",
      "  Version:          18.06.1-ce\n",
      "  API version:      1.38 (minimum version 1.12)\n",
      "  Go version:       go1.11\n",
      "  Git commit:       e68fc7a215\n",
      "  Built:            Fri Sep  7 11:26:11 2018\n",
      "  OS/Arch:          linux/amd64\n",
      "  Experimental:     false\n"
     ]
    }
   ],
   "source": [
    "docker version"
   ]
  },
  {
   "cell_type": "code",
   "execution_count": 2,
   "metadata": {},
   "outputs": [
    {
     "name": "stdout",
     "output_type": "stream",
     "text": [
      "Client Version: version.Info{Major:\"1\", Minor:\"11\", GitVersion:\"v1.11.0\", GitCommit:\"91e7b4fd31fcd3d5f436da26c980becec37ceefe\", GitTreeState:\"clean\", BuildDate:\"2018-06-27T20:17:28Z\", GoVersion:\"go1.10.2\", Compiler:\"gc\", Platform:\"linux/amd64\"}\n",
      "Error from server (NotFound): the server could not find the requested resource\n"
     ]
    },
    {
     "ename": "",
     "evalue": "1",
     "output_type": "error",
     "traceback": []
    }
   ],
   "source": [
    "kubectl version"
   ]
  },
  {
   "cell_type": "code",
   "execution_count": 3,
   "metadata": {},
   "outputs": [
    {
     "name": "stdout",
     "output_type": "stream",
     "text": [
      "Version: {KustomizeVersion:1.0.8 GitCommit:58492e2d83c59ed63881311f46ad6251f77dabc3 BuildDate:2018-09-13T19:14:22Z GoOs:unknown GoArch:unknown}\n"
     ]
    }
   ],
   "source": [
    "kustomize version"
   ]
  },
  {
   "cell_type": "code",
   "execution_count": 4,
   "metadata": {},
   "outputs": [
    {
     "name": "stdout",
     "output_type": "stream",
     "text": [
      "git version 2.18.0\n"
     ]
    }
   ],
   "source": [
    "git --version"
   ]
  },
  {
   "cell_type": "code",
   "execution_count": 5,
   "metadata": {},
   "outputs": [
    {
     "name": "stdout",
     "output_type": "stream",
     "text": [
      "aws-cli/1.15.66 Python/3.6.6 Linux/4.18.7-arch1-1-ARCH botocore/1.10.65\n"
     ]
    }
   ],
   "source": [
    "aws --version"
   ]
  },
  {
   "cell_type": "code",
   "execution_count": 6,
   "metadata": {},
   "outputs": [
    {
     "name": "stdout",
     "output_type": "stream",
     "text": [
      "Google Cloud SDK 216.0.0\n",
      "bq 2.0.34\n",
      "core 2018.09.07\n",
      "gsutil 4.33\n"
     ]
    }
   ],
   "source": [
    "gcloud --version"
   ]
  }
 ],
 "metadata": {
  "kernelspec": {
   "display_name": "Bash",
   "language": "bash",
   "name": "bash"
  },
  "language_info": {
   "codemirror_mode": "shell",
   "file_extension": ".sh",
   "mimetype": "text/x-sh",
   "name": "bash"
  }
 },
 "nbformat": 4,
 "nbformat_minor": 2
}

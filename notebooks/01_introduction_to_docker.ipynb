{
 "cells": [
  {
   "cell_type": "markdown",
   "metadata": {},
   "source": [
    "# 1 Introduction to Docker: Sample App"
   ]
  },
  {
   "cell_type": "markdown",
   "metadata": {},
   "source": [
    "## 1.1 Sample App"
   ]
  },
  {
   "cell_type": "code",
   "execution_count": 1,
   "metadata": {},
   "outputs": [],
   "source": [
    "cd app"
   ]
  },
  {
   "cell_type": "markdown",
   "metadata": {},
   "source": [
    "The sample app is a http server written in go."
   ]
  },
  {
   "cell_type": "code",
   "execution_count": 2,
   "metadata": {},
   "outputs": [
    {
     "name": "stdout",
     "output_type": "stream",
     "text": [
      "package main\n",
      "\n",
      "import (\n",
      "    \"fmt\"\n",
      "    \"net/http\"\n",
      ")\n",
      "\n",
      "func handler(w http.ResponseWriter, r *http.Request) {\n",
      "    fmt.Fprintf(w, \"Hello!\")\n",
      "}\n",
      "\n",
      "func main() {\n",
      "    http.HandleFunc(\"/\", handler)\n",
      "    http.ListenAndServe(\":8888\", nil)\n",
      "}\n"
     ]
    }
   ],
   "source": [
    "cat main.go"
   ]
  },
  {
   "cell_type": "markdown",
   "metadata": {},
   "source": [
    "Dockerfile looks like this,"
   ]
  },
  {
   "cell_type": "code",
   "execution_count": 3,
   "metadata": {},
   "outputs": [
    {
     "name": "stdout",
     "output_type": "stream",
     "text": [
      "FROM golang:1.10.1-alpine as build\n",
      "\n",
      "WORKDIR /go/src/github.com/sakajunquality/hello-go-docker\n",
      "COPY main.go main.go\n",
      "\n",
      "RUN go get -d -v ./...\n",
      "RUN go install -v ./...\n",
      "\n",
      "FROM alpine\n",
      "RUN apk add --no-cache ca-certificates\n",
      "COPY --from=build /go/bin/hello-go-docker /usr/local/bin/hello-go-docker\n",
      "\n",
      "CMD [\"hello-go-docker\"]\n"
     ]
    }
   ],
   "source": [
    "cat Dockerfile"
   ]
  },
  {
   "cell_type": "markdown",
   "metadata": {},
   "source": [
    "## 1.2 Build the image"
   ]
  },
  {
   "cell_type": "code",
   "execution_count": 4,
   "metadata": {},
   "outputs": [
    {
     "name": "stdout",
     "output_type": "stream",
     "text": [
      "Sending build context to Docker daemon  3.072kB\n",
      "Step 1/9 : FROM golang:1.10.1-alpine as build\n",
      " ---> 52d894fca6d4\n",
      "Step 2/9 : WORKDIR /go/src/github.com/sakajunquality/hello-go-docker\n",
      " ---> Running in 68860fc483c1\n",
      "Removing intermediate container 68860fc483c1\n",
      " ---> ef33b24152db\n",
      "Step 3/9 : COPY main.go main.go\n",
      " ---> 13ddaf3b9bcd\n",
      "Step 4/9 : RUN go get -d -v ./...\n",
      " ---> Running in 66435510e41f\n",
      "Removing intermediate container 66435510e41f\n",
      " ---> d4646170ba2a\n",
      "Step 5/9 : RUN go install -v ./...\n",
      " ---> Running in e69a1cc25bda\n",
      "\u001b[91mgithub.com/sakajunquality/hello-go-docker\n",
      "\u001b[0mRemoving intermediate container e69a1cc25bda\n",
      " ---> c73c2aaae722\n",
      "Step 6/9 : FROM alpine\n",
      " ---> 196d12cf6ab1\n",
      "Step 7/9 : RUN apk add --no-cache ca-certificates\n",
      " ---> Running in 9a70012cdece\n",
      "fetch http://dl-cdn.alpinelinux.org/alpine/v3.8/main/x86_64/APKINDEX.tar.gz\n",
      "fetch http://dl-cdn.alpinelinux.org/alpine/v3.8/community/x86_64/APKINDEX.tar.gz\n",
      "(1/1) Installing ca-certificates (20171114-r3)\n",
      "Executing busybox-1.28.4-r1.trigger\n",
      "Executing ca-certificates-20171114-r3.trigger\n",
      "OK: 5 MiB in 14 packages\n",
      "Removing intermediate container 9a70012cdece\n",
      " ---> 5211ee2caf41\n",
      "Step 8/9 : COPY --from=build /go/bin/hello-go-docker /usr/local/bin/hello-go-docker\n",
      " ---> ea53cb21cc0d\n",
      "Step 9/9 : CMD [\"hello-go-docker\"]\n",
      " ---> Running in f164b1c092d2\n",
      "Removing intermediate container f164b1c092d2\n",
      " ---> d980ccb64adb\n",
      "Successfully built d980ccb64adb\n",
      "Successfully tagged k8s-hands-on:latest\n"
     ]
    }
   ],
   "source": [
    "docker image build --no-cache -t k8s-hands-on ."
   ]
  },
  {
   "cell_type": "markdown",
   "metadata": {},
   "source": [
    "## 1.3 Run as container"
   ]
  },
  {
   "cell_type": "code",
   "execution_count": 5,
   "metadata": {},
   "outputs": [
    {
     "name": "stdout",
     "output_type": "stream",
     "text": [
      "cd6f227937f4ed36106ad1f77ce68904490ecbf6cf42c1c2c00563570922b7be\n"
     ]
    }
   ],
   "source": [
    "docker container run -d --rm -p 8888:8888 --name k8s-hands-on k8s-hands-on"
   ]
  },
  {
   "cell_type": "markdown",
   "metadata": {},
   "source": [
    "Open [http://localhost:8888/](http://localhost:8888/) in your browser."
   ]
  },
  {
   "cell_type": "markdown",
   "metadata": {},
   "source": [
    "check the docker process,"
   ]
  },
  {
   "cell_type": "code",
   "execution_count": 6,
   "metadata": {},
   "outputs": [
    {
     "name": "stdout",
     "output_type": "stream",
     "text": [
      "CONTAINER ID        IMAGE                         COMMAND                  CREATED             STATUS              PORTS                              NAMES\n",
      "cd6f227937f4        k8s-hands-on                  \"hello-go-docker\"        2 minutes ago       Up 2 minutes        0.0.0.0:8888->8888/tcp             k8s-hands-on\n",
      "0db2564ff1bf        sakajunquality/k8s-hands-on   \"dockerd-entrypoint.…\"   25 minutes ago      Up 25 minutes       2375/tcp, 0.0.0.0:8080->8080/tcp   blissful_easley\n"
     ]
    }
   ],
   "source": [
    "docker ps"
   ]
  },
  {
   "cell_type": "markdown",
   "metadata": {},
   "source": [
    "## 1.4 Kill the container"
   ]
  },
  {
   "cell_type": "code",
   "execution_count": 7,
   "metadata": {},
   "outputs": [
    {
     "name": "stdout",
     "output_type": "stream",
     "text": [
      "k8s-hands-on\n"
     ]
    }
   ],
   "source": [
    "docker kill k8s-hands-on"
   ]
  },
  {
   "cell_type": "markdown",
   "metadata": {},
   "source": [
    "check the process again,"
   ]
  },
  {
   "cell_type": "code",
   "execution_count": 8,
   "metadata": {},
   "outputs": [
    {
     "name": "stdout",
     "output_type": "stream",
     "text": [
      "CONTAINER ID        IMAGE                         COMMAND                  CREATED             STATUS              PORTS                              NAMES\n",
      "0db2564ff1bf        sakajunquality/k8s-hands-on   \"dockerd-entrypoint.…\"   26 minutes ago      Up 26 minutes       2375/tcp, 0.0.0.0:8080->8080/tcp   blissful_easley\n"
     ]
    }
   ],
   "source": [
    "docker ps"
   ]
  }
 ],
 "metadata": {
  "kernelspec": {
   "display_name": "Bash",
   "language": "bash",
   "name": "bash"
  },
  "language_info": {
   "codemirror_mode": "shell",
   "file_extension": ".sh",
   "mimetype": "text/x-sh",
   "name": "bash"
  }
 },
 "nbformat": 4,
 "nbformat_minor": 2
}

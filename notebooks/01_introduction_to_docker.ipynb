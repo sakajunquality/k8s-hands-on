{
 "cells": [
  {
   "cell_type": "markdown",
   "metadata": {},
   "source": [
    "# 1 Introduction to Docker: Sample App"
   ]
  },
  {
   "cell_type": "markdown",
   "metadata": {},
   "source": [
    "## 1.1 Sample App"
   ]
  },
  {
   "cell_type": "code",
   "execution_count": 1,
   "metadata": {},
   "outputs": [],
   "source": [
    "cd app"
   ]
  },
  {
   "cell_type": "markdown",
   "metadata": {},
   "source": [
    "The sample app is a http server written in go."
   ]
  },
  {
   "cell_type": "code",
   "execution_count": 2,
   "metadata": {},
   "outputs": [
    {
     "name": "stdout",
     "output_type": "stream",
     "text": [
      "package main\n",
      "\n",
      "import (\n",
      "    \"fmt\"\n",
      "    \"net/http\"\n",
      ")\n",
      "\n",
      "func handler(w http.ResponseWriter, r *http.Request) {\n",
      "    fmt.Fprintf(w, \"Hello!\")\n",
      "}\n",
      "\n",
      "func main() {\n",
      "    http.HandleFunc(\"/\", handler)\n",
      "    http.ListenAndServe(\":8888\", nil)\n",
      "}\n"
     ]
    }
   ],
   "source": [
    "cat main.go"
   ]
  },
  {
   "cell_type": "markdown",
   "metadata": {},
   "source": [
    "Dockerfile looks like this,"
   ]
  },
  {
   "cell_type": "code",
   "execution_count": 3,
   "metadata": {},
   "outputs": [
    {
     "name": "stdout",
     "output_type": "stream",
     "text": [
      "FROM golang:1.10.1-alpine as build\n",
      "\n",
      "WORKDIR /go/src/github.com/sakajunquality/hello-go-docker\n",
      "COPY main.go main.go\n",
      "\n",
      "RUN go get -d -v ./...\n",
      "RUN go install -v ./...\n",
      "\n",
      "FROM alpine\n",
      "RUN apk add --no-cache ca-certificates\n",
      "COPY --from=build /go/bin/hello-go-docker /usr/local/bin/hello-go-docker\n",
      "\n",
      "CMD [\"hello-go-docker\"]\n"
     ]
    }
   ],
   "source": [
    "cat Dockerfile"
   ]
  },
  {
   "cell_type": "markdown",
   "metadata": {},
   "source": [
    "## 1.2 Build the image"
   ]
  },
  {
   "cell_type": "code",
   "execution_count": 4,
   "metadata": {},
   "outputs": [
    {
     "name": "stdout",
     "output_type": "stream",
     "text": [
      "Sending build context to Docker daemon  3.072kB\n",
      "Step 1/9 : FROM golang:1.10.1-alpine as build\n",
      " ---> 41bf3e9b9f3c\n",
      "Step 2/9 : WORKDIR /go/src/github.com/sakajunquality/hello-go-docker\n",
      " ---> Running in bde538b229d1\n",
      "Removing intermediate container bde538b229d1\n",
      " ---> d4ab11736a1c\n",
      "Step 3/9 : COPY main.go main.go\n",
      " ---> f79ad2bec090\n",
      "Step 4/9 : RUN go get -d -v ./...\n",
      " ---> Running in a4908d98b14e\n",
      "Removing intermediate container a4908d98b14e\n",
      " ---> 8c60232df29d\n",
      "Step 5/9 : RUN go install -v ./...\n",
      " ---> Running in 90405fea99fe\n",
      "\u001b[91mgithub.com/sakajunquality/hello-go-docker\n",
      "\u001b[0mRemoving intermediate container 90405fea99fe\n",
      " ---> 4dd649354721\n",
      "Step 6/9 : FROM alpine\n",
      " ---> 3fd9065eaf02\n",
      "Step 7/9 : RUN apk add --no-cache ca-certificates\n",
      " ---> Running in a0eaedeb4ea9\n",
      "fetch http://dl-cdn.alpinelinux.org/alpine/v3.7/main/x86_64/APKINDEX.tar.gz\n",
      "fetch http://dl-cdn.alpinelinux.org/alpine/v3.7/community/x86_64/APKINDEX.tar.gz\n",
      "(1/1) Installing ca-certificates (20171114-r0)\n",
      "Executing busybox-1.27.2-r7.trigger\n",
      "Executing ca-certificates-20171114-r0.trigger\n",
      "OK: 5 MiB in 12 packages\n",
      "Removing intermediate container a0eaedeb4ea9\n",
      " ---> bfdd172f05bf\n",
      "Step 8/9 : COPY --from=build /go/bin/hello-go-docker /usr/local/bin/hello-go-docker\n",
      " ---> 8ced011b6973\n",
      "Step 9/9 : CMD [\"hello-go-docker\"]\n",
      " ---> Running in 43dd675797b3\n",
      "Removing intermediate container 43dd675797b3\n",
      " ---> bb863908f312\n",
      "Successfully built bb863908f312\n",
      "Successfully tagged k8s-hands-on:v1\n"
     ]
    }
   ],
   "source": [
    "docker image build --no-cache -t k8s-hands-on:v1 ."
   ]
  },
  {
   "cell_type": "markdown",
   "metadata": {},
   "source": [
    "## 1.3 Run as container"
   ]
  },
  {
   "cell_type": "code",
   "execution_count": 5,
   "metadata": {},
   "outputs": [
    {
     "name": "stdout",
     "output_type": "stream",
     "text": [
      "d6256c14c19f77b81fac74d6dcf12b2686fca5b471909a56b8edc0197cee4a49\n"
     ]
    }
   ],
   "source": [
    "docker container run -d --rm -p 8888:8888 --name k8s-hands-on k8s-hands-on:v1"
   ]
  },
  {
   "cell_type": "markdown",
   "metadata": {},
   "source": [
    "Open [http://localhost:8888/](http://localhost:8888/) in your browser."
   ]
  },
  {
   "cell_type": "markdown",
   "metadata": {},
   "source": [
    "check the docker process,"
   ]
  },
  {
   "cell_type": "code",
   "execution_count": 6,
   "metadata": {},
   "outputs": [
    {
     "name": "stdout",
     "output_type": "stream",
     "text": [
      "CONTAINER ID        IMAGE                         COMMAND                  CREATED             STATUS              PORTS                              NAMES\n",
      "d6256c14c19f        k8s-hands-on:v1               \"hello-go-docker\"        10 seconds ago      Up 8 seconds        0.0.0.0:8888->8888/tcp             k8s-hands-on\n",
      "60e18ba7b362        sakajunquality/k8s-hands-on   \"dockerd-entrypoint.…\"   2 hours ago         Up 2 hours          2375/tcp, 0.0.0.0:8080->8080/tcp   relaxed_brattain\n"
     ]
    }
   ],
   "source": [
    "docker ps"
   ]
  },
  {
   "cell_type": "markdown",
   "metadata": {},
   "source": [
    "## 1.4 Kill the container"
   ]
  },
  {
   "cell_type": "code",
   "execution_count": 7,
   "metadata": {},
   "outputs": [
    {
     "name": "stdout",
     "output_type": "stream",
     "text": [
      "k8s-hands-on\n"
     ]
    }
   ],
   "source": [
    "docker kill k8s-hands-on"
   ]
  },
  {
   "cell_type": "markdown",
   "metadata": {},
   "source": [
    "check the process again,"
   ]
  },
  {
   "cell_type": "code",
   "execution_count": 8,
   "metadata": {},
   "outputs": [
    {
     "name": "stdout",
     "output_type": "stream",
     "text": [
      "CONTAINER ID        IMAGE                         COMMAND                  CREATED             STATUS              PORTS                              NAMES\n",
      "60e18ba7b362        sakajunquality/k8s-hands-on   \"dockerd-entrypoint.…\"   2 hours ago         Up 2 hours          2375/tcp, 0.0.0.0:8080->8080/tcp   relaxed_brattain\n"
     ]
    }
   ],
   "source": [
    "docker ps"
   ]
  }
 ],
 "metadata": {
  "kernelspec": {
   "display_name": "Bash",
   "language": "bash",
   "name": "bash"
  },
  "language_info": {
   "codemirror_mode": "shell",
   "file_extension": ".sh",
   "mimetype": "text/x-sh",
   "name": "bash"
  }
 },
 "nbformat": 4,
 "nbformat_minor": 2
}
